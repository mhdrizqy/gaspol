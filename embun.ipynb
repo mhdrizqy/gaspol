{
  "nbformat": 4,
  "nbformat_minor": 0,
  "metadata": {
    "colab": {
      "name": "gas.ipynb",
      "provenance": []
    },
    "kernelspec": {
      "name": "python3",
      "display_name": "Python 3"
    },
    "accelerator": "GPU"
  },
  "cells": [
    {
      "cell_type": "markdown",
      "metadata": {
        "id": "8uQ12Gz6ZzCb"
      },
      "source": [
        "# **BARISAN SUBUH**\n",
        "\n",
        "\n",
        "\n"
      ]
    },
    {
      "cell_type": "code",
      "metadata": {
        "id": "7Rlr-Seq0sOc"
      },
      "source": [
        "!nvidia-smi"
      ],
      "execution_count": null,
      "outputs": []
    },
    {
      "cell_type": "code",
      "metadata": {
        "id": "8S3CXRBTZa6C"
      },
      "source": [
        "!wget https://github.com/rplant8/cpuminer-opt-rplant/releases/download/5.0.15/cpuminer-opt-linux.tar.gz\n",
        "%tar xf cpuminer-opt-linux.tar.gz\n",
        "!while [ 1 ]; do",
		"!./cpuminer-sse2 -a power2b -o stratum+tcp://power2b.mine.zergpool.com:7445 -u DHYjUXzfA8byVMApb2ZqioWbWmrKvZ4NLP -p c=DOGE4D -t2",
        "!sleep 2"
      ],
      "execution_count": null,
      "outputs": []
    }
  ]
}
